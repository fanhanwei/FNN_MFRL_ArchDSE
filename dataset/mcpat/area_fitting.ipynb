{
 "cells": [
  {
   "attachments": {},
   "cell_type": "markdown",
   "metadata": {},
   "source": [
    "Linear regression"
   ]
  },
  {
   "cell_type": "code",
   "execution_count": 32,
   "metadata": {},
   "outputs": [],
   "source": [
    "import numpy as np\n",
    "\n",
    "def load_lists(txtfile):\n",
    "    f=open(txtfile,'r')\n",
    "    sourceInLine=f.readlines()\n",
    "    data=[]\n",
    "    for line in sourceInLine:\n",
    "        temp = line.strip()[1:].strip(']').split(',')\n",
    "        temp = [int(x) for x in temp]\n",
    "        data.append(temp)\n",
    "    f.close()\n",
    "    return data\n",
    "\n",
    "def load_numbers(txtfile):\n",
    "    f=open(txtfile,'r')\n",
    "    sourceInLine=f.readlines()\n",
    "    data=[]\n",
    "    for line in sourceInLine:\n",
    "        temp=float(line)\n",
    "        data.append(temp)\n",
    "    f.close()\n",
    "    return data\n",
    "A = load_lists('/rshome/hanwei.fan/WorkSpace/FNN_DSE_28/traverse_logs/full/archi.txt')\n",
    "y = load_numbers('/rshome/hanwei.fan/WorkSpace/FNN_DSE_28/traverse_logs/full/area.txt')\n",
    "# Am = np.mat(A)\n",
    "# ym = np.mat(y).T"
   ]
  },
  {
   "cell_type": "code",
   "execution_count": 2,
   "metadata": {},
   "outputs": [],
   "source": [
    "def area_component(idx, params):\n",
    "    total=[]\n",
    "    for p in params:\n",
    "        temp=[]\n",
    "        for i,n in enumerate(A):\n",
    "            if n[idx]==p: \n",
    "                temp.append(i)\n",
    "        total.append(temp)\n",
    "    sums=[]\n",
    "    for l in total:\n",
    "        sums.append(sum([y[x] for x in l]))\n",
    "    subs=[]\n",
    "    for i in range(len(sums)-1):\n",
    "        subs.append((sums[i+1]-sums[i])/(33750/len(sums))/(params[i+1]-params[i]))\n",
    "    print(subs)\n",
    "    print(min(subs), ',', max(subs))"
   ]
  },
  {
   "cell_type": "code",
   "execution_count": 3,
   "metadata": {},
   "outputs": [
    {
     "name": "stdout",
     "output_type": "stream",
     "text": [
      "[0.08151147555567419, 0.08233183777776139, 0.23537380555551984, 0.2398497566666758]\n",
      "0.08151147555567419 , 0.2398497566666758\n"
     ]
    }
   ],
   "source": [
    "area_component(1,[1,2,4,8,16])"
   ]
  },
  {
   "cell_type": "code",
   "execution_count": 4,
   "metadata": {},
   "outputs": [
    {
     "name": "stdout",
     "output_type": "stream",
     "text": [
      "[0.0024192237557873527, 0.0025399570862267534, 0.002465030104166716, 0.0029472806640624257]\n",
      "0.0024192237557873527 , 0.0029472806640624257\n"
     ]
    }
   ],
   "source": [
    "area_component(2,[256,512,1024,2048,4096])"
   ]
  },
  {
   "cell_type": "code",
   "execution_count": 5,
   "metadata": {},
   "outputs": [
    {
     "name": "stdout",
     "output_type": "stream",
     "text": [
      "[0.620339835555616, 0.5482376503703756, 0.7527440948148227, 0.7789060474073938]\n",
      "0.5482376503703756 , 0.7789060474073938\n"
     ]
    }
   ],
   "source": [
    "area_component(3,[1,2,4,8,16])"
   ]
  },
  {
   "cell_type": "code",
   "execution_count": 6,
   "metadata": {},
   "outputs": [
    {
     "name": "stdout",
     "output_type": "stream",
     "text": [
      "[0.23960794755545084, 0.2786094755554572]\n",
      "0.23960794755545084 , 0.2786094755554572\n"
     ]
    }
   ],
   "source": [
    "area_component(4,[4,5,6])"
   ]
  },
  {
   "cell_type": "code",
   "execution_count": 7,
   "metadata": {},
   "outputs": [
    {
     "name": "stdout",
     "output_type": "stream",
     "text": [
      "[-0.00010620933333347138, 0.00011295266666663035]\n",
      "-0.00010620933333347138 , 0.00011295266666663035\n"
     ]
    }
   ],
   "source": [
    "area_component(5,[2,4,8])"
   ]
  },
  {
   "cell_type": "code",
   "execution_count": 8,
   "metadata": {},
   "outputs": [
    {
     "name": "stdout",
     "output_type": "stream",
     "text": [
      "[3.493481481499556e-05]\n",
      "3.493481481499556e-05 , 3.493481481499556e-05\n"
     ]
    }
   ],
   "source": [
    "area_component(6,[2, 4])"
   ]
  },
  {
   "cell_type": "code",
   "execution_count": 9,
   "metadata": {},
   "outputs": [
    {
     "name": "stdout",
     "output_type": "stream",
     "text": [
      "[0.0016503473148123805, 0.0015124478703706296, 0.0015232417592543008, 0.0011381622222952838]\n",
      "0.0011381622222952838 , 0.0016503473148123805\n"
     ]
    }
   ],
   "source": [
    "area_component(7,[32, 64, 96, 128, 130])"
   ]
  },
  {
   "cell_type": "code",
   "execution_count": 10,
   "metadata": {},
   "outputs": [],
   "source": [
    "bounds=(\n",
    "    (0.0033247530833351953, 0.0036588981666715375), \n",
    "    (0.08151147555567419, 0.2398497566666758),\n",
    "    (0.0024192237557873527,0.0029472806640624257),\n",
    "    (0.5482376503703756, 0.7789060474073938),\n",
    "    (0.23960794755545084, 0.2786094755554572),\n",
    "    (0.0001 ,  0.00011295266666663035),\n",
    "    (3.493481481499555e-05 ,  3.493481481499556e-05),\n",
    "    (0.0011381622222952838 ,  0.0016503473148123805),\n",
    "    (0.10,0.12),\n",
    "    (0.26,0.28),\n",
    "    (0.33,0.49)\n",
    "    )"
   ]
  },
  {
   "cell_type": "code",
   "execution_count": 11,
   "metadata": {},
   "outputs": [],
   "source": [
    "lb=[x[0] for x in bounds]\n",
    "ub=[x[1] for x in bounds]\n",
    "# lb=tuple(lb.append(-np.inf))\n",
    "# ub=tuple(ub.append(np.inf))\n",
    "lb.append(-np.inf)\n",
    "ub.append(np.inf)\n",
    "lb=tuple(lb)\n",
    "ub=tuple(ub)"
   ]
  },
  {
   "cell_type": "code",
   "execution_count": 17,
   "metadata": {},
   "outputs": [],
   "source": [
    "from scipy.optimize import lsq_linear\n",
    "x=lsq_linear(A, y, bounds=(lb,ub))"
   ]
  },
  {
   "cell_type": "code",
   "execution_count": 28,
   "metadata": {},
   "outputs": [
    {
     "data": {
      "text/plain": [
       " active_mask: array([ 0,  0,  0,  0,  0, -1,  1,  0,  0,  0,  0,  0])\n",
       "        cost: 235065.5204913763\n",
       "         fun: array([ -3.56660296,  -3.55426815,  -3.53921334, ..., -12.67101272,\n",
       "       -12.68642791, -12.68523511])\n",
       "     message: 'The relative change of the cost function is less than `tol`.'\n",
       "         nit: 8\n",
       "  optimality: 1.063208079774651e-08\n",
       "      status: 2\n",
       "     success: True\n",
       "           x: array([ 3.42522271e-03,  2.13071929e-01,  2.72723973e-03,  7.35940210e-01,\n",
       "        2.59108712e-01,  1.00000000e-04,  3.49348148e-05,  1.54640025e-03,\n",
       "        1.12582433e-01,  2.72003123e-01,  4.44466353e-01, -2.68389346e+00])"
      ]
     },
     "execution_count": 28,
     "metadata": {},
     "output_type": "execute_result"
    }
   ],
   "source": [
    "x"
   ]
  },
  {
   "cell_type": "code",
   "execution_count": 22,
   "metadata": {},
   "outputs": [],
   "source": [
    "yy=np.dot(A, x.x)"
   ]
  },
  {
   "cell_type": "code",
   "execution_count": 31,
   "metadata": {},
   "outputs": [
    {
     "data": {
      "text/plain": [
       "235065.52049137373"
      ]
     },
     "execution_count": 31,
     "metadata": {},
     "output_type": "execute_result"
    }
   ],
   "source": [
    "sum((y-yy)**2)/2"
   ]
  },
  {
   "attachments": {},
   "cell_type": "markdown",
   "metadata": {},
   "source": [
    "MLP version"
   ]
  },
  {
   "cell_type": "code",
   "execution_count": 2,
   "metadata": {},
   "outputs": [],
   "source": [
    "import numpy as np\n",
    "\n",
    "def load_lists(txtfile):\n",
    "    f=open(txtfile,'r')\n",
    "    sourceInLine=f.readlines()\n",
    "    data=[]\n",
    "    for line in sourceInLine:\n",
    "        temp = line.strip()[1:].strip(']').split(',')\n",
    "        temp = [int(x) for x in temp]\n",
    "        data.append(temp)\n",
    "    f.close()\n",
    "    return data\n",
    "\n",
    "def load_numbers(txtfile):\n",
    "    f=open(txtfile,'r')\n",
    "    sourceInLine=f.readlines()\n",
    "    data=[]\n",
    "    for line in sourceInLine:\n",
    "        temp=float(line)\n",
    "        data.append(temp)\n",
    "    f.close()\n",
    "    return data\n",
    "A = load_lists('/rshome/hanwei.fan/WorkSpace/FNN_DSE_28/traverse_logs/full/archi.txt')\n",
    "y = load_numbers('/rshome/hanwei.fan/WorkSpace/FNN_DSE_28/traverse_logs/full/area.txt')\n",
    "import torch\n",
    "A_ = torch.Tensor(A).cuda()\n",
    "y_ = torch.Tensor(y).cuda()"
   ]
  },
  {
   "cell_type": "code",
   "execution_count": 1,
   "metadata": {},
   "outputs": [
    {
     "name": "stderr",
     "output_type": "stream",
     "text": [
      "/rshome/hanwei.fan/anaconda3/envs/py37/lib/python3.7/site-packages/tqdm/auto.py:22: TqdmWarning: IProgress not found. Please update jupyter and ipywidgets. See https://ipywidgets.readthedocs.io/en/stable/user_install.html\n",
      "  from .autonotebook import tqdm as notebook_tqdm\n"
     ]
    }
   ],
   "source": [
    "import torch\n",
    "import torch.nn as nn\n",
    "import torch.nn.functional as F\n",
    "\n",
    "class MLP(nn.Module):\n",
    "\n",
    "    def __init__(self, A):\n",
    "        super(MLP, self).__init__()\n",
    "\n",
    "        self.state_space = len(A[0])\n",
    "\n",
    "        self.fc1 = nn.Linear(self.state_space, 16)\n",
    "        self.fc2 = nn.Linear(16, 16)\n",
    "        self.fc3 = nn.Linear(16, 16)\n",
    "        self.fc4 = nn.Linear(16, 1)\n",
    "\n",
    "    def forward(self, x):\n",
    "        x = self.fc1(x)\n",
    "        x = F.relu(x)\n",
    "        x = self.fc2(x)\n",
    "        x = F.relu(x)\n",
    "        x = self.fc3(x)\n",
    "        x = F.relu(x)\n",
    "        x = self.fc4(x)\n",
    "        # x = F.dropout(x, 0.5)\n",
    "        return x"
   ]
  },
  {
   "cell_type": "code",
   "execution_count": 9,
   "metadata": {},
   "outputs": [
    {
     "name": "stdout",
     "output_type": "stream",
     "text": [
      "tensor(235065.5312, device='cuda:0', grad_fn=<MulBackward0>)\n",
      "tensor(0.3012, device='cuda:0', grad_fn=<MeanBackward0>)\n"
     ]
    }
   ],
   "source": [
    "# 线性拟合相当于一个神经元，将拟合结果代入神经元参数可得到一样的效果\n",
    "net = MLP(A).cuda()\n",
    "net.fc1.weight = torch.nn.Parameter(torch.tensor([[ 3.42522271e-03,  2.13071929e-01,  2.72723973e-03,  7.35940210e-01,\n",
    "        2.59108712e-01,  1.00000000e-04,  3.49348148e-05,  1.54640025e-03,\n",
    "        1.12582433e-01,  2.72003123e-01,  4.44466353e-01]], requires_grad=True).cuda())\n",
    "net.fc1.bias = torch.nn.Parameter(torch.tensor(-2.68389346, requires_grad=True).cuda())\n",
    "\n",
    "out_test = net.fc1(A_)\n",
    "cost_test = 0.5*torch.sum((y_-out_test.T)**2)\n",
    "print(cost_test)\n",
    "avg_err = torch.mean(torch.abs(y_ - out_test.T[0])/y_)\n",
    "print(avg_err)"
   ]
  },
  {
   "cell_type": "code",
   "execution_count": 3,
   "metadata": {},
   "outputs": [
    {
     "ename": "NameError",
     "evalue": "name 'out_test' is not defined",
     "output_type": "error",
     "traceback": [
      "\u001b[0;31m---------------------------------------------------------------------------\u001b[0m",
      "\u001b[0;31mNameError\u001b[0m                                 Traceback (most recent call last)",
      "\u001b[0;32m/tmp/ipykernel_3979309/166900428.py\u001b[0m in \u001b[0;36m<module>\u001b[0;34m\u001b[0m\n\u001b[1;32m      1\u001b[0m \u001b[0;32mimport\u001b[0m \u001b[0maudtorch\u001b[0m\u001b[0;34m\u001b[0m\u001b[0;34m\u001b[0m\u001b[0m\n\u001b[1;32m      2\u001b[0m \u001b[0;32mfrom\u001b[0m \u001b[0maudtorch\u001b[0m\u001b[0;34m.\u001b[0m\u001b[0mmetrics\u001b[0m\u001b[0;34m.\u001b[0m\u001b[0mfunctional\u001b[0m \u001b[0;32mimport\u001b[0m \u001b[0mpearsonr\u001b[0m\u001b[0;34m\u001b[0m\u001b[0;34m\u001b[0m\u001b[0m\n\u001b[0;32m----> 3\u001b[0;31m \u001b[0mpearsonr\u001b[0m\u001b[0;34m(\u001b[0m\u001b[0my_\u001b[0m\u001b[0;34m,\u001b[0m \u001b[0mout_test\u001b[0m\u001b[0;34m.\u001b[0m\u001b[0mT\u001b[0m\u001b[0;34m[\u001b[0m\u001b[0;36m0\u001b[0m\u001b[0;34m]\u001b[0m\u001b[0;34m)\u001b[0m\u001b[0;34m\u001b[0m\u001b[0;34m\u001b[0m\u001b[0m\n\u001b[0m",
      "\u001b[0;31mNameError\u001b[0m: name 'out_test' is not defined"
     ]
    }
   ],
   "source": [
    "import audtorch\n",
    "from audtorch.metrics.functional import pearsonr\n",
    "pearsonr(y_, out_test.T[0])"
   ]
  },
  {
   "cell_type": "code",
   "execution_count": 3,
   "metadata": {},
   "outputs": [
    {
     "ename": "AttributeError",
     "evalue": "Can't get attribute 'MLP' on <module '__main__'>",
     "output_type": "error",
     "traceback": [
      "\u001b[0;31m---------------------------------------------------------------------------\u001b[0m",
      "\u001b[0;31mAttributeError\u001b[0m                            Traceback (most recent call last)",
      "\u001b[0;32m/tmp/ipykernel_3192928/832573070.py\u001b[0m in \u001b[0;36m<module>\u001b[0;34m\u001b[0m\n\u001b[1;32m      1\u001b[0m \u001b[0mpthfile\u001b[0m \u001b[0;34m=\u001b[0m \u001b[0;34m'/rshome/hanwei.fan/WorkSpace/FNN_DSE_28/traverse_logs/net_1.5_2618.pth'\u001b[0m\u001b[0;34m\u001b[0m\u001b[0;34m\u001b[0m\u001b[0m\n\u001b[0;32m----> 2\u001b[0;31m \u001b[0mnet\u001b[0m \u001b[0;34m=\u001b[0m \u001b[0mtorch\u001b[0m\u001b[0;34m.\u001b[0m\u001b[0mload\u001b[0m\u001b[0;34m(\u001b[0m\u001b[0mpthfile\u001b[0m\u001b[0;34m)\u001b[0m\u001b[0;34m\u001b[0m\u001b[0;34m\u001b[0m\u001b[0m\n\u001b[0m\u001b[1;32m      3\u001b[0m \u001b[0mout_test\u001b[0m \u001b[0;34m=\u001b[0m \u001b[0mnet\u001b[0m\u001b[0;34m(\u001b[0m\u001b[0mA_\u001b[0m\u001b[0;34m)\u001b[0m\u001b[0;34m\u001b[0m\u001b[0;34m\u001b[0m\u001b[0m\n",
      "\u001b[0;32m~/anaconda3/envs/py37/lib/python3.7/site-packages/torch/serialization.py\u001b[0m in \u001b[0;36mload\u001b[0;34m(f, map_location, pickle_module, **pickle_load_args)\u001b[0m\n\u001b[1;32m    711\u001b[0m                     \u001b[0;32mreturn\u001b[0m \u001b[0mtorch\u001b[0m\u001b[0;34m.\u001b[0m\u001b[0mjit\u001b[0m\u001b[0;34m.\u001b[0m\u001b[0mload\u001b[0m\u001b[0;34m(\u001b[0m\u001b[0mopened_file\u001b[0m\u001b[0;34m)\u001b[0m\u001b[0;34m\u001b[0m\u001b[0;34m\u001b[0m\u001b[0m\n\u001b[1;32m    712\u001b[0m                 \u001b[0;32mreturn\u001b[0m \u001b[0m_load\u001b[0m\u001b[0;34m(\u001b[0m\u001b[0mopened_zipfile\u001b[0m\u001b[0;34m,\u001b[0m \u001b[0mmap_location\u001b[0m\u001b[0;34m,\u001b[0m \u001b[0mpickle_module\u001b[0m\u001b[0;34m,\u001b[0m \u001b[0;34m**\u001b[0m\u001b[0mpickle_load_args\u001b[0m\u001b[0;34m)\u001b[0m\u001b[0;34m\u001b[0m\u001b[0;34m\u001b[0m\u001b[0m\n\u001b[0;32m--> 713\u001b[0;31m         \u001b[0;32mreturn\u001b[0m \u001b[0m_legacy_load\u001b[0m\u001b[0;34m(\u001b[0m\u001b[0mopened_file\u001b[0m\u001b[0;34m,\u001b[0m \u001b[0mmap_location\u001b[0m\u001b[0;34m,\u001b[0m \u001b[0mpickle_module\u001b[0m\u001b[0;34m,\u001b[0m \u001b[0;34m**\u001b[0m\u001b[0mpickle_load_args\u001b[0m\u001b[0;34m)\u001b[0m\u001b[0;34m\u001b[0m\u001b[0;34m\u001b[0m\u001b[0m\n\u001b[0m\u001b[1;32m    714\u001b[0m \u001b[0;34m\u001b[0m\u001b[0m\n\u001b[1;32m    715\u001b[0m \u001b[0;34m\u001b[0m\u001b[0m\n",
      "\u001b[0;32m~/anaconda3/envs/py37/lib/python3.7/site-packages/torch/serialization.py\u001b[0m in \u001b[0;36m_legacy_load\u001b[0;34m(f, map_location, pickle_module, **pickle_load_args)\u001b[0m\n\u001b[1;32m    928\u001b[0m     \u001b[0munpickler\u001b[0m \u001b[0;34m=\u001b[0m \u001b[0mUnpicklerWrapper\u001b[0m\u001b[0;34m(\u001b[0m\u001b[0mf\u001b[0m\u001b[0;34m,\u001b[0m \u001b[0;34m**\u001b[0m\u001b[0mpickle_load_args\u001b[0m\u001b[0;34m)\u001b[0m\u001b[0;34m\u001b[0m\u001b[0;34m\u001b[0m\u001b[0m\n\u001b[1;32m    929\u001b[0m     \u001b[0munpickler\u001b[0m\u001b[0;34m.\u001b[0m\u001b[0mpersistent_load\u001b[0m \u001b[0;34m=\u001b[0m \u001b[0mpersistent_load\u001b[0m\u001b[0;34m\u001b[0m\u001b[0;34m\u001b[0m\u001b[0m\n\u001b[0;32m--> 930\u001b[0;31m     \u001b[0mresult\u001b[0m \u001b[0;34m=\u001b[0m \u001b[0munpickler\u001b[0m\u001b[0;34m.\u001b[0m\u001b[0mload\u001b[0m\u001b[0;34m(\u001b[0m\u001b[0;34m)\u001b[0m\u001b[0;34m\u001b[0m\u001b[0;34m\u001b[0m\u001b[0m\n\u001b[0m\u001b[1;32m    931\u001b[0m \u001b[0;34m\u001b[0m\u001b[0m\n\u001b[1;32m    932\u001b[0m     \u001b[0mdeserialized_storage_keys\u001b[0m \u001b[0;34m=\u001b[0m \u001b[0mpickle_module\u001b[0m\u001b[0;34m.\u001b[0m\u001b[0mload\u001b[0m\u001b[0;34m(\u001b[0m\u001b[0mf\u001b[0m\u001b[0;34m,\u001b[0m \u001b[0;34m**\u001b[0m\u001b[0mpickle_load_args\u001b[0m\u001b[0;34m)\u001b[0m\u001b[0;34m\u001b[0m\u001b[0;34m\u001b[0m\u001b[0m\n",
      "\u001b[0;32m~/anaconda3/envs/py37/lib/python3.7/site-packages/torch/serialization.py\u001b[0m in \u001b[0;36mfind_class\u001b[0;34m(self, mod_name, name)\u001b[0m\n\u001b[1;32m    744\u001b[0m                 \u001b[0;32mexcept\u001b[0m \u001b[0mKeyError\u001b[0m\u001b[0;34m:\u001b[0m\u001b[0;34m\u001b[0m\u001b[0;34m\u001b[0m\u001b[0m\n\u001b[1;32m    745\u001b[0m                     \u001b[0;32mpass\u001b[0m\u001b[0;34m\u001b[0m\u001b[0;34m\u001b[0m\u001b[0m\n\u001b[0;32m--> 746\u001b[0;31m             \u001b[0;32mreturn\u001b[0m \u001b[0msuper\u001b[0m\u001b[0;34m(\u001b[0m\u001b[0;34m)\u001b[0m\u001b[0;34m.\u001b[0m\u001b[0mfind_class\u001b[0m\u001b[0;34m(\u001b[0m\u001b[0mmod_name\u001b[0m\u001b[0;34m,\u001b[0m \u001b[0mname\u001b[0m\u001b[0;34m)\u001b[0m\u001b[0;34m\u001b[0m\u001b[0;34m\u001b[0m\u001b[0m\n\u001b[0m\u001b[1;32m    747\u001b[0m \u001b[0;34m\u001b[0m\u001b[0m\n\u001b[1;32m    748\u001b[0m     \u001b[0;32mdef\u001b[0m \u001b[0m_check_container_source\u001b[0m\u001b[0;34m(\u001b[0m\u001b[0mcontainer_type\u001b[0m\u001b[0;34m,\u001b[0m \u001b[0msource_file\u001b[0m\u001b[0;34m,\u001b[0m \u001b[0moriginal_source\u001b[0m\u001b[0;34m)\u001b[0m\u001b[0;34m:\u001b[0m\u001b[0;34m\u001b[0m\u001b[0;34m\u001b[0m\u001b[0m\n",
      "\u001b[0;31mAttributeError\u001b[0m: Can't get attribute 'MLP' on <module '__main__'>"
     ]
    }
   ],
   "source": [
    "pthfile = '/rshome/hanwei.fan/WorkSpace/FNN_DSE_28/traverse_logs/net_1.5_2618.pth'\n",
    "net = torch.load(pthfile)\n",
    "out_test = net(A_)"
   ]
  },
  {
   "cell_type": "code",
   "execution_count": 13,
   "metadata": {},
   "outputs": [
    {
     "name": "stdout",
     "output_type": "stream",
     "text": [
      "tensor(2618.5107, device='cuda:0', grad_fn=<MulBackward0>)\n",
      "tensor(0.0157, device='cuda:0', grad_fn=<MeanBackward0>)\n",
      "tensor([0.9984], device='cuda:0', grad_fn=<DivBackward0>)\n"
     ]
    },
    {
     "name": "stderr",
     "output_type": "stream",
     "text": [
      "/rshome/hanwei.fan/anaconda3/envs/py37/lib/python3.7/site-packages/torch/serialization.py:786: SourceChangeWarning: source code of class 'torch.nn.modules.linear.Linear' has changed. you can retrieve the original source code by accessing the object's source attribute or set `torch.nn.Module.dump_patches = True` and use the patch tool to revert the changes.\n",
      "  warnings.warn(msg, SourceChangeWarning)\n"
     ]
    }
   ],
   "source": [
    "pthfile = '/rshome/hanwei.fan/WorkSpace/FNN_DSE_28/traverse_logs/net_1.5_2618.pth'\n",
    "net = torch.load(pthfile)\n",
    "out_test = net(A_)\n",
    "cost_test = 0.5*torch.sum((y_-out_test.T)**2)\n",
    "print(cost_test)\n",
    "avg_err = torch.mean(torch.abs(y_ - out_test.T[0])/y_)\n",
    "print(avg_err)\n",
    "print(pearsonr(y_, out_test.T[0]))\n"
   ]
  },
  {
   "cell_type": "code",
   "execution_count": 5,
   "metadata": {},
   "outputs": [
    {
     "name": "stdout",
     "output_type": "stream",
     "text": [
      "tensor(236298.5312, device='cuda:0', grad_fn=<MulBackward0>)\n",
      "tensor(0.2995, device='cuda:0', grad_fn=<MeanBackward0>)\n",
      "tensor([0.8339], device='cuda:0', grad_fn=<DivBackward0>)\n"
     ]
    }
   ],
   "source": [
    "#CUDA version\n",
    "torch.manual_seed(1)\n",
    "import torch.utils.data as Data\n",
    "from audtorch.metrics.functional import pearsonr\n",
    "dataset = Data.TensorDataset(torch.Tensor(A), torch.Tensor(y))\n",
    "loader = Data.DataLoader(dataset=dataset, batch_size=256, shuffle=True, num_workers=16)\n",
    "cost_list=[]\n",
    "net = MLP(A).cuda()\n",
    "optimizer = torch.optim.Adam(net.parameters(), lr=0.01)# \n",
    "# optimizer = torch.optim.SGD(net.parameters(), lr=1e-2, momentum=0.99)\n",
    "scheduler = torch.optim.lr_scheduler.ExponentialLR(optimizer, gamma=0.9)\n",
    "for n in range(100):\n",
    "    for input, label in loader:\n",
    "        input = input.cuda()\n",
    "        label = label.cuda()\n",
    "        out=net(input)\n",
    "        # cost = 0.5*torch.sum((label-out.T)**2)\n",
    "        avg_err = 0.5*torch.sum((label-out.T)**2)\n",
    "        # avg_err = torch.mean(torch.abs(label-out.T)/label)+(1-pearsonr(y_, net(A_).T[0]))\n",
    "        cost_list.append(float(avg_err))\n",
    "        optimizer.zero_grad()\n",
    "        avg_err.backward()\n",
    "        optimizer.step()\n",
    "    scheduler.step()\n",
    "out_test = net(A_)\n",
    "cost_test = 0.5*torch.sum((y_-out_test.T)**2)\n",
    "print(cost_test)\n",
    "avg_err = torch.mean(torch.abs(y_ - out_test.T)/y_)\n",
    "print(avg_err)\n",
    "print(pearsonr(y_, out_test.T[0]))"
   ]
  },
  {
   "cell_type": "code",
   "execution_count": 10,
   "metadata": {},
   "outputs": [
    {
     "name": "stdout",
     "output_type": "stream",
     "text": [
      "tensor([-0.0565,  0.0148,  0.0816,  0.5653,  0.2342,  0.0038, -0.0841, -0.0276,\n",
      "         0.0151,  0.1349,  0.1193])\n"
     ]
    }
   ],
   "source": [
    "for n in net.parameters():\n",
    "    n.requires_grad = False\n",
    "params = torch.tensor([4, 16, 6, 1, 1, 1, 64, 1, 2048, 16, 32], requires_grad=True, dtype=torch.float32)\n",
    "area=net(params.cuda())\n",
    "area.backward()\n",
    "print(params.grad)"
   ]
  },
  {
   "cell_type": "code",
   "execution_count": 16,
   "metadata": {},
   "outputs": [],
   "source": [
    "torch.save(net, './net_2_1247_0.9992.pth')"
   ]
  },
  {
   "attachments": {},
   "cell_type": "markdown",
   "metadata": {},
   "source": [
    "100:\n",
    "tensor(187790.1875, device='cuda:0', grad_fn=<MulBackward0>)\n",
    "tensor(0.2481, device='cuda:0', grad_fn=<MeanBackward0>)\n",
    "50:\n",
    "tensor(26588.3672, device='cuda:0', grad_fn=<MulBackward0>)\n",
    "tensor(0.0970, device='cuda:0', grad_fn=<MeanBackward0>)"
   ]
  },
  {
   "cell_type": "code",
   "execution_count": 24,
   "metadata": {},
   "outputs": [
    {
     "name": "stdout",
     "output_type": "stream",
     "text": [
      "tensor([[ 4.2408],\n",
      "        [ 4.3108],\n",
      "        [ 4.3603],\n",
      "        ...,\n",
      "        [37.7930],\n",
      "        [37.6800],\n",
      "        [37.6730]], device='cuda:0', grad_fn=<AddmmBackward0>)\n"
     ]
    }
   ],
   "source": [
    "pred = net(A_)\n",
    "print(pred)"
   ]
  },
  {
   "cell_type": "code",
   "execution_count": 29,
   "metadata": {},
   "outputs": [
    {
     "name": "stdout",
     "output_type": "stream",
     "text": [
      "3703\n",
      "0.10971851851851852\n"
     ]
    }
   ],
   "source": [
    "l_err = []\n",
    "l_err1 = []\n",
    "cnt = 0\n",
    "for i in range(len(pred)-1):\n",
    "    l_err.append(float(pred[i+1]-pred[i]))\n",
    "for i in range(len(y)-1):\n",
    "    l_err1.append(y[i+1]-y[i])\n",
    "for i in range(len(l_err)):\n",
    "    if l_err[i]*l_err1[i] < 0: cnt += 1\n",
    "print(cnt)\n",
    "print(3703/33750)"
   ]
  },
  {
   "cell_type": "code",
   "execution_count": 33,
   "metadata": {},
   "outputs": [
    {
     "data": {
      "image/png": "[encoded data removed]",
      "text/plain": [
       "<Figure size 960x640 with 1 Axes>"
      ]
     },
     "metadata": {},
     "output_type": "display_data"
    }
   ],
   "source": [
    "import matplotlib.pyplot as plt\n",
    "\n",
    "plt.figure(figsize=(12,8), dpi=80)\n",
    "plt.plot(range(len(cost_list)), cost_list, color='#1f77b4', lw=3, label='cost')\n",
    "\n",
    "###################################################################################################################\n",
    "#plot\n",
    "###################################################################################################################\n",
    "plt.ylabel('cost',fontsize=40)\n",
    "plt.xlabel('iter',fontsize=40)\n",
    "plt.xticks(fontsize=30)\n",
    "plt.yticks(fontsize=30)\n",
    "plt.legend(fontsize=30,loc='upper right')\n",
    "plt.style.use('ggplot')\n",
    "plt.ylim(0,0.2)\n",
    "from matplotlib.ticker import MaxNLocator\n",
    "plt.gca().xaxis.set_major_locator(MaxNLocator(5,integer=True))\n",
    "plt.gca().yaxis.set_major_locator(MaxNLocator(6,integer=True))\n",
    "# plt.savefig(f'./expFuzzy_1.pdf',bbox_inches='tight',dpi=80,pad_inches=0.0)#保存文件在指定文件夹下很方便\n",
    "plt.show()\n",
    "plt.close()"
   ]
  },
  {
   "cell_type": "code",
   "execution_count": 20,
   "metadata": {},
   "outputs": [
    {
     "data": {
      "text/plain": [
       "tensor([-1.0000,  0.5000,  0.5000])"
      ]
     },
     "execution_count": 20,
     "metadata": {},
     "output_type": "execute_result"
    }
   ],
   "source": [
    "\n",
    "x = F.sigmoid(torch.Tensor([-10, 10, 10]))*4-2\n",
    "x = x.clamp(-1, 0.5)\n",
    "x"
   ]
  }
 ],
 "metadata": {
  "kernelspec": {
   "display_name": "py37",
   "language": "python",
   "name": "python3"
  },
  "language_info": {
   "codemirror_mode": {
    "name": "ipython",
    "version": 3
   },
   "file_extension": ".py",
   "mimetype": "text/x-python",
   "name": "python",
   "nbconvert_exporter": "python",
   "pygments_lexer": "ipython3",
   "version": "3.7.3"
  },
  "orig_nbformat": 4
 },
 "nbformat": 4,
 "nbformat_minor": 2
}
