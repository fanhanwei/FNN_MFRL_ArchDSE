{
 "cells": [
  {
   "cell_type": "code",
   "execution_count": null,
   "metadata": {},
   "outputs": [],
   "source": [
    "import torch\n",
    "state_dict = torch.load('./fnn-all.pt').state_dict()\n",
    "for key in state_dict:\n",
    "    print(key)  "
   ]
  },
  {
   "cell_type": "code",
   "execution_count": 20,
   "metadata": {},
   "outputs": [
    {
     "name": "stdout",
     "output_type": "stream",
     "text": [
      "layer.fuzzify.varmfs.l1.mfdefs.low.b\n",
      "layer.fuzzify.varmfs.l2.mfdefs.low.b\n",
      "layer.fuzzify.varmfs.ROB.mfdefs.low.b\n",
      "layer.fuzzify.varmfs.IQ.mfdefs.low.b\n",
      "layer.fuzzify.varmfs.FU.mfdefs.low.b\n",
      "layer.fuzzify.varmfs.decode.mfdefs.low.b\n",
      "layer.consequent.coefficients\n",
      "layer.fuzzify.varmfs.l1.mfdefs.high.b\n",
      "layer.fuzzify.varmfs.l2.mfdefs.high.b\n",
      "layer.fuzzify.varmfs.ROB.mfdefs.high.b\n",
      "layer.fuzzify.varmfs.IQ.mfdefs.high.b\n",
      "layer.fuzzify.varmfs.FU.mfdefs.high.b\n",
      "layer.fuzzify.varmfs.decode.mfdefs.high.b\n"
     ]
    }
   ],
   "source": [
    "state_dict_v2 = copy.deepcopy(state_dict)\n",
    "for key in state_dict:\n",
    "    if 'enough' in key:\n",
    "        pre, post = key.split('enough')\n",
    "        state_dict_v2[pre+'high'+post] = state_dict_v2.pop(key)\n",
    "for key in state_dict_v2:\n",
    "    print(key)        "
   ]
  },
  {
   "cell_type": "code",
   "execution_count": 22,
   "metadata": {},
   "outputs": [
    {
     "name": "stdout",
     "output_type": "stream",
     "text": [
      "tensor(True)\n",
      "tensor(True)\n",
      "tensor(True)\n",
      "tensor(True)\n",
      "tensor(True)\n",
      "tensor(True)\n"
     ]
    }
   ],
   "source": [
    "invardefs1 = [\n",
    "            ('cycle',  OrderedDict(zip(['low', 'medium', 'high'], [SigmoidMembFunc_const(1, -10),  BellMembFunc(1, 3, 3),  SigmoidMembFunc_const(5, 10)]     ))),\n",
    "            ('area',   OrderedDict(zip(['low', 'medium', 'high'], [SigmoidMembFunc_const(5, -10),    BellMembFunc(1, 3, 6),    SigmoidMembFunc_const(7, 10)]       ))),\n",
    "            # ('cycle',  OrderedDict(zip(['low', 'medium', 'high'], [SigmoidMembFunc_const(2, -10),  BellMembFunc(1, 3, 4),  SigmoidMembFunc_const(6, 10)]     ))),\n",
    "            # ('area',   OrderedDict(zip(['low', 'medium', 'high'], [SigmoidMembFunc_const(6, -10),    BellMembFunc(1, 3, 8),    SigmoidMembFunc_const(10, 10)]       ))),\n",
    "            ('l1',  OrderedDict(zip(['low', 'high'], [SigmoidMembFunc(8, -10), SigmoidMembFunc(8, 10)]     ))),\n",
    "            ('l2',  OrderedDict(zip(['low', 'high'], [SigmoidMembFunc(11, -10), SigmoidMembFunc(11, 10)]     ))),\n",
    "            ('ROB',    OrderedDict(zip(['low', 'high'],  [SigmoidMembFunc(3.5, -10),  SigmoidMembFunc(3.5, 10)]     ))),\n",
    "            ('IQ',    OrderedDict(zip(['low', 'high'],  [SigmoidMembFunc(3, -10),  SigmoidMembFunc(3, 10)]     ))),\n",
    "            ('FU',    OrderedDict(zip(['low', 'high'],  [SigmoidMembFunc(5, -10),  SigmoidMembFunc(5, 10)]     ))),\n",
    "            ('decode',    OrderedDict(zip(['low', 'high'],  [SigmoidMembFunc(3, -10),  SigmoidMembFunc(3, 10)]     ))),\n",
    "            ]\n",
    "modelB = anfis.AnfisNet('DSE', invardefs1, outvars, combinations, C=None, hybrid=False)\n",
    "modelB.load_state_dict(state_dict_v2)\n",
    "modelA = torch.load('./fnn-all.pt')\n",
    "print(modelB.layer.fuzzify.varmfs.l1.mfdefs.high.b == modelA.layer.fuzzify.varmfs.l1.mfdefs.enough.b)\n",
    "print(modelB.layer.fuzzify.varmfs.l2.mfdefs.high.b == modelA.layer.fuzzify.varmfs.l2.mfdefs.enough.b)\n",
    "print(modelB.layer.fuzzify.varmfs.ROB.mfdefs.high.b == modelA.layer.fuzzify.varmfs.ROB.mfdefs.enough.b)\n",
    "print(modelB.layer.fuzzify.varmfs.IQ.mfdefs.high.b == modelA.layer.fuzzify.varmfs.IQ.mfdefs.enough.b)\n",
    "print(modelB.layer.fuzzify.varmfs.FU.mfdefs.high.b == modelA.layer.fuzzify.varmfs.FU.mfdefs.enough.b)\n",
    "print(modelB.layer.fuzzify.varmfs.decode.mfdefs.high.b == modelA.layer.fuzzify.varmfs.decode.mfdefs.enough.b)"
   ]
  },
  {
   "cell_type": "code",
   "execution_count": null,
   "metadata": {},
   "outputs": [],
   "source": [
    "torch.save(modelB, './fnn.pt')\n",
    "torch.save(modelB.state_dict(), './fnn-state.pt')"
   ]
  }
 ],
 "metadata": {
  "kernelspec": {
   "display_name": "Python 3",
   "language": "python",
   "name": "python3"
  },
  "language_info": {
   "codemirror_mode": {
    "name": "ipython",
    "version": 3
   },
   "file_extension": ".py",
   "mimetype": "text/x-python",
   "name": "python",
   "nbconvert_exporter": "python",
   "pygments_lexer": "ipython3",
   "version": "3.10.11"
  }
 },
 "nbformat": 4,
 "nbformat_minor": 2
}
