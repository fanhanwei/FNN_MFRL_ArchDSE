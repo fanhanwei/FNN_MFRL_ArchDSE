{
 "cells": [
  {
   "cell_type": "code",
   "execution_count": null,
   "metadata": {},
   "outputs": [],
   "source": [
    "import numpy as np\n",
    "import skfuzzy as fuzz\n",
    "from skfuzzy import control as ctrl"
   ]
  },
  {
   "cell_type": "code",
   "execution_count": null,
   "metadata": {},
   "outputs": [],
   "source": [
    "ROB = ctrl.Antecedent(np.arange(0, 10, 0.1), 'ROB')\n",
    "ROB['low'] = fuzz.sigmf(ROB.universe, 3., -10.)\n",
    "ROB['enough'] = fuzz.sigmf(ROB.universe, 3.6689772605895996, 10.) #area upper limit==10, must decrease area when exceeding\n",
    "ROB.view()"
   ]
  },
  {
   "cell_type": "code",
   "execution_count": null,
   "metadata": {},
   "outputs": [],
   "source": [
    "cycle = ctrl.Antecedent(np.arange(5, 11, 0.1), 'cycle')\n",
    "cycle['low'] = fuzz.sigmf(cycle.universe, 6.5, -10.)\n",
    "cycle['medium'] = fuzz.gbellmf(cycle.universe, 1, 3, 7.5)\n",
    "cycle['high'] = fuzz.sigmf(cycle.universe, 8.5, 10.) #area upper limit==10, must decrease area when exceeding\n",
    "cycle.view()"
   ]
  },
  {
   "cell_type": "code",
   "execution_count": null,
   "metadata": {},
   "outputs": [],
   "source": [
    "l1miss = ctrl.Antecedent(np.arange(0.2, 0.9, 0.001), 'l1miss')\n",
    "l1miss['low'] = fuzz.sigmf(l1miss.universe, 0.53, -300.)\n",
    "l1miss['medium'] = fuzz.gbellmf(l1miss.universe, 0.02, 2, 0.55)\n",
    "l1miss['high'] = fuzz.sigmf(l1miss.universe, 0.57, 300.) #area upper limit==10, must decrease area when exceeding\n",
    "l1miss.view()"
   ]
  },
  {
   "cell_type": "code",
   "execution_count": null,
   "metadata": {},
   "outputs": [],
   "source": [
    "l2miss = ctrl.Antecedent(np.arange(0., 1., 0.01), 'l2miss')\n",
    "l2miss['low'] = fuzz.sigmf(l2miss.universe, 0.55, -100.)\n",
    "l2miss['medium'] = fuzz.gbellmf(l2miss.universe, 0.1, 1, 0.6)\n",
    "l2miss['high'] = fuzz.sigmf(l2miss.universe, 0.7, 100.) #area upper limit==10, must decrease area when exceeding\n",
    "l2miss.view()"
   ]
  }
 ],
 "metadata": {
  "language_info": {
   "name": "python"
  },
  "orig_nbformat": 4
 },
 "nbformat": 4,
 "nbformat_minor": 2
}
