{
 "cells": [
  {
   "cell_type": "code",
   "execution_count": 1,
   "metadata": {},
   "outputs": [],
   "source": [
    "import numpy as np\n",
    "import matplotlib.pyplot as plt\n",
    "from scipy.optimize import curve_fit"
   ]
  },
  {
   "cell_type": "code",
   "execution_count": 33,
   "metadata": {},
   "outputs": [],
   "source": [
    "d = [\n",
    "                            [\n",
    "                                0,\n",
    "                                0.2875\n",
    "                            ],\n",
    "                            [\n",
    "                                1,\n",
    "                                0.6124\n",
    "                            ],\n",
    "                            [\n",
    "                                2,\n",
    "                                0.8874\n",
    "                            ],\n",
    "                            [\n",
    "                                1024,\n",
    "                                0.9124\n",
    "                            ],\n",
    "                            [\n",
    "                                2048,\n",
    "                                0.9499\n",
    "                            ]]"
   ]
  },
  {
   "cell_type": "code",
   "execution_count": 53,
   "metadata": {},
   "outputs": [],
   "source": [
    "def func4(x,a,b,c,d,e):\n",
    "    return a+b*x+c*x**2+d*x**3+e*x**4\n",
    "\n",
    "def func3(x,a,b,c,d):\n",
    "    return a+b*x+c*x**2+d*np.log(x)\n",
    "\n",
    "def func2(x,a,b,c):\n",
    "    return a+b*x+c*x**2\n",
    "\n",
    "def func1(x,a,b):\n",
    "    return a*x +b\n",
    "\n",
    "def func(x, **kwargs):\n",
    "    y = 0\n",
    "    for i, w in enumerate(kwargs.values()):\n",
    "        y = y + float(w) * x**int(i)\n",
    "    return y"
   ]
  },
  {
   "cell_type": "code",
   "execution_count": 34,
   "metadata": {},
   "outputs": [],
   "source": [
    "y = [m[1] for m in d]\n",
    "x = np.linspace(0, len(y)-1, len(y))"
   ]
  },
  {
   "cell_type": "code",
   "execution_count": 18,
   "metadata": {},
   "outputs": [
    {
     "data": {
      "text/plain": [
       "array([0., 1., 2., 3., 4.])"
      ]
     },
     "execution_count": 18,
     "metadata": {},
     "output_type": "execute_result"
    }
   ],
   "source": [
    "x"
   ]
  },
  {
   "cell_type": "code",
   "execution_count": 12,
   "metadata": {},
   "outputs": [
    {
     "data": {
      "text/plain": [
       "array([ 6.,  7.,  8.,  9., 10.])"
      ]
     },
     "execution_count": 12,
     "metadata": {},
     "output_type": "execute_result"
    }
   ],
   "source": [
    "x1"
   ]
  },
  {
   "cell_type": "code",
   "execution_count": 65,
   "metadata": {},
   "outputs": [
    {
     "name": "stdout",
     "output_type": "stream",
     "text": [
      "[0.003125 0.88115 ]\n"
     ]
    },
    {
     "name": "stderr",
     "output_type": "stream",
     "text": [
      "/rshome/hanwei.fan/anaconda3/envs/py37/lib/python3.7/site-packages/scipy/optimize/minpack.py:834: OptimizeWarning: Covariance of the parameters could not be estimated\n",
      "  category=OptimizeWarning)\n"
     ]
    },
    {
     "data": {
      "image/png": "[encoded data removed]",
      "text/plain": [
       "<Figure size 432x288 with 1 Axes>"
      ]
     },
     "metadata": {
      "needs_background": "light"
     },
     "output_type": "display_data"
    }
   ],
   "source": [
    "x1 = np.array([2,10])\n",
    "y1 = np.array([0.8874, 0.9124])\n",
    "popt, pcov = curve_fit(func1, x1, y1)\n",
    "print(popt)\n",
    "plt.plot(x1, y1, 'b-', label='data')\n",
    "plt.plot(np.linspace(0, 11, 10), func1(np.linspace(0, 11, 10), *popt), 'r-', label='regression')\n",
    "plt.xlabel('x')\n",
    "plt.ylabel('y')\n",
    "plt.legend()\n",
    "plt.show()"
   ]
  },
  {
   "cell_type": "code",
   "execution_count": 77,
   "metadata": {},
   "outputs": [
    {
     "data": {
      "text/plain": [
       "0.9092749999999999"
      ]
     },
     "execution_count": 77,
     "metadata": {},
     "output_type": "execute_result"
    }
   ],
   "source": [
    "def ss(x):\n",
    "    return 0.88115 +0.003125*x\n",
    "ss(9)"
   ]
  },
  {
   "cell_type": "code",
   "execution_count": 79,
   "metadata": {},
   "outputs": [
    {
     "name": "stdout",
     "output_type": "stream",
     "text": [
      "[ 8.09974600e+00 -3.45435643e+00  6.17305683e-01 -4.86970167e-02\n",
      "  1.43226667e-03]\n"
     ]
    },
    {
     "name": "stderr",
     "output_type": "stream",
     "text": [
      "/rshome/hanwei.fan/anaconda3/envs/py37/lib/python3.7/site-packages/scipy/optimize/minpack.py:834: OptimizeWarning: Covariance of the parameters could not be estimated\n",
      "  category=OptimizeWarning)\n"
     ]
    },
    {
     "data": {
      "image/png": "[encoded data removed]",
      "text/plain": [
       "<Figure size 432x288 with 1 Axes>"
      ]
     },
     "metadata": {
      "needs_background": "light"
     },
     "output_type": "display_data"
    }
   ],
   "source": [
    "x2 = [7,8,9,10,11]\n",
    "y2 = [0.903025, 0.90615, 0.9092749, 0.9124, 0.9499]\n",
    "popt, pcov = curve_fit(func4, x2, y2)\n",
    "print(popt)\n",
    "plt.plot(x2, y2, 'b-', label='data')\n",
    "plt.plot(np.linspace(9, 15, 7), func4(np.linspace(9, 15, 7), *popt), 'r-', label='regression')\n",
    "plt.xlabel('x')\n",
    "plt.ylabel('y')\n",
    "plt.legend()\n",
    "plt.show()"
   ]
  },
  {
   "cell_type": "code",
   "execution_count": 84,
   "metadata": {},
   "outputs": [
    {
     "data": {
      "text/plain": [
       "1.0905240035199988"
      ]
     },
     "execution_count": 84,
     "metadata": {},
     "output_type": "execute_result"
    }
   ],
   "source": [
    "def ss(x):\n",
    "    return 8.09974600e+00 -3.45435643e+00*x + 6.17305683e-01*x**2 -4.86970167e-02*x**3 + 1.43226667e-03*x**4\n",
    "ss(12)"
   ]
  }
 ],
 "metadata": {
  "kernelspec": {
   "display_name": "py37",
   "language": "python",
   "name": "python3"
  },
  "language_info": {
   "codemirror_mode": {
    "name": "ipython",
    "version": 3
   },
   "file_extension": ".py",
   "mimetype": "text/x-python",
   "name": "python",
   "nbconvert_exporter": "python",
   "pygments_lexer": "ipython3",
   "version": "3.7.3"
  },
  "orig_nbformat": 4
 },
 "nbformat": 4,
 "nbformat_minor": 2
}
