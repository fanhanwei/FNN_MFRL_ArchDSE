{
 "cells": [
  {
   "cell_type": "code",
   "execution_count": 2,
   "metadata": {},
   "outputs": [],
   "source": [
    "import numpy as np\n",
    "import matplotlib.pyplot as plt\n",
    "from scipy.optimize import curve_fit"
   ]
  },
  {
   "cell_type": "code",
   "execution_count": 3,
   "metadata": {},
   "outputs": [],
   "source": [
    "d = [\n",
    "                            [\n",
    "                                0,\n",
    "                                0.2613\n",
    "                            ],\n",
    "                            [\n",
    "                                1,\n",
    "                                0.4602\n",
    "                            ],\n",
    "                            [\n",
    "                                2,\n",
    "                                0.5776\n",
    "                            ],\n",
    "                            [\n",
    "                                4,\n",
    "                                0.9413\n",
    "                            ],\n",
    "                            [\n",
    "                                8,\n",
    "                                0.944\n",
    "                            ],\n",
    "                            [\n",
    "                                16,\n",
    "                                0.9445\n",
    "                            ],\n",
    "                            [\n",
    "                                32,\n",
    "                                0.9448\n",
    "                            ],\n",
    "                            [\n",
    "                                64,\n",
    "                                0.9451\n",
    "                            ],\n",
    "                            [\n",
    "                                128,\n",
    "                                0.9461\n",
    "                            ],\n",
    "                            [\n",
    "                                256,\n",
    "                                0.9697\n",
    "                            ],\n",
    "                            [\n",
    "                                512,\n",
    "                                0.9962\n",
    "                            ]\n",
    "]"
   ]
  },
  {
   "cell_type": "code",
   "execution_count": 4,
   "metadata": {},
   "outputs": [],
   "source": [
    "def func5(x,a,b,c,d,e,f):\n",
    "    return a+b*x+c*x**2+d*x**3+e*x**4+f*x**5\n",
    "\n",
    "def func4(x,a,b,c,d,e):\n",
    "    return a+b*x+c*x**2+d*x**3+e*x**4\n",
    "\n",
    "def func3(x,a,b,c,d):\n",
    "    return a+b*x+c*x**2+d*x**3\n",
    "\n",
    "def func2(x,a,b,c):\n",
    "    return a+b*x+c*x**2\n",
    "\n",
    "def func(x, a, b):\n",
    "    return a+b*x\n"
   ]
  },
  {
   "cell_type": "code",
   "execution_count": 5,
   "metadata": {},
   "outputs": [
    {
     "data": {
      "image/png": "[encoded data removed]",
      "text/plain": [
       "<Figure size 432x288 with 1 Axes>"
      ]
     },
     "metadata": {
      "needs_background": "light"
     },
     "output_type": "display_data"
    }
   ],
   "source": [
    "y = [m[1] for m in d]\n",
    "x = np.linspace(0, len(y)-1, len(y))\n",
    "plt.plot(x[6:]-1, y[6:], 'b-', label='data')\n",
    "plt.xlabel('x')\n",
    "plt.ylabel('y')\n",
    "plt.legend()\n",
    "plt.show()"
   ]
  },
  {
   "cell_type": "code",
   "execution_count": 6,
   "metadata": {},
   "outputs": [
    {
     "name": "stdout",
     "output_type": "stream",
     "text": [
      "[5. 6. 7.] [0.9448, 0.9451, 0.9461]\n",
      "[9.41433333e-01 6.49999998e-04]\n"
     ]
    },
    {
     "data": {
      "image/png": "[encoded data removed]",
      "text/plain": [
       "<Figure size 432x288 with 1 Axes>"
      ]
     },
     "metadata": {
      "needs_background": "light"
     },
     "output_type": "display_data"
    }
   ],
   "source": [
    "x1 = x[6:9]-1\n",
    "y1 = y[6:9]\n",
    "x_ = np.linspace(5, x1[-1], len(y)*100)\n",
    "print(x1, y1)\n",
    "f = func\n",
    "popt, pcov = curve_fit(f, x1, y1)\n",
    "print(popt)\n",
    "plt.plot(x1, y1, 'b-', label='data')\n",
    "plt.plot(x_, f(x_, *popt), 'r-', label='regression')\n",
    "plt.xlabel('x')\n",
    "plt.ylabel('y')\n",
    "plt.legend()\n",
    "plt.show()"
   ]
  },
  {
   "cell_type": "code",
   "execution_count": 24,
   "metadata": {},
   "outputs": [
    {
     "data": {
      "text/plain": [
       "0.945983332986"
      ]
     },
     "execution_count": 24,
     "metadata": {},
     "output_type": "execute_result"
    }
   ],
   "source": [
    "def l1_test(x):\n",
    "    return 9.41433333e-01+6.49999998e-04*x\n",
    "l1_test(7)"
   ]
  },
  {
   "cell_type": "markdown",
   "metadata": {},
   "source": [
    "L2 cache"
   ]
  },
  {
   "cell_type": "code",
   "execution_count": 18,
   "metadata": {},
   "outputs": [
    {
     "name": "stdout",
     "output_type": "stream",
     "text": [
      "[8. 9.] [0.9697, 0.9962]\n",
      "[0.7577 0.0265]\n"
     ]
    },
    {
     "name": "stderr",
     "output_type": "stream",
     "text": [
      "/rshome/hanwei.fan/anaconda3/envs/py37/lib/python3.7/site-packages/scipy/optimize/minpack.py:834: OptimizeWarning: Covariance of the parameters could not be estimated\n",
      "  category=OptimizeWarning)\n"
     ]
    },
    {
     "data": {
      "image/png": "[encoded data removed]",
      "text/plain": [
       "<Figure size 432x288 with 1 Axes>"
      ]
     },
     "metadata": {
      "needs_background": "light"
     },
     "output_type": "display_data"
    }
   ],
   "source": [
    "x1 = x[9:]-1\n",
    "y1 = y[9:]\n",
    "x_ = np.linspace(8, x1[-1], len(y)*100)\n",
    "print(x1, y1)\n",
    "f = func\n",
    "popt, pcov = curve_fit(f, x1, y1)\n",
    "print(popt)\n",
    "plt.plot(x1, y1, 'b-', label='data')\n",
    "plt.plot(x_, f(x_, *popt), 'r-', label='regression')\n",
    "plt.xlabel('x')\n",
    "plt.ylabel('y')\n",
    "plt.legend()\n",
    "plt.show()"
   ]
  },
  {
   "cell_type": "code",
   "execution_count": 22,
   "metadata": {},
   "outputs": [
    {
     "data": {
      "text/plain": [
       "1"
      ]
     },
     "execution_count": 22,
     "metadata": {},
     "output_type": "execute_result"
    }
   ],
   "source": [
    "def l2_test(x):\n",
    "    if x <= 9:\n",
    "        return 0.7577 + 0.0265*x\n",
    "    else:\n",
    "        return 1\n",
    "l2_test(10)   "
   ]
  }
 ],
 "metadata": {
  "kernelspec": {
   "display_name": "py37",
   "language": "python",
   "name": "python3"
  },
  "language_info": {
   "codemirror_mode": {
    "name": "ipython",
    "version": 3
   },
   "file_extension": ".py",
   "mimetype": "text/x-python",
   "name": "python",
   "nbconvert_exporter": "python",
   "pygments_lexer": "ipython3",
   "version": "3.7.3"
  },
  "orig_nbformat": 4
 },
 "nbformat": 4,
 "nbformat_minor": 2
}
