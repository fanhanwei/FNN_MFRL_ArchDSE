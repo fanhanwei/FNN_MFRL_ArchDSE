{
 "cells": [
  {
   "cell_type": "markdown",
   "metadata": {},
   "source": [
    "### Get the pruned rules"
   ]
  },
  {
   "cell_type": "code",
   "execution_count": 8,
   "metadata": {},
   "outputs": [],
   "source": [
    "import torch\n",
    "def remove_redundants(menu, componet):\n",
    "    antecedants =  ['cycle','area','l1','l2','ROB','IQ','FU','decode']\n",
    "    rule = []\n",
    "    for ant in antecedants:\n",
    "        cnt_low=0\n",
    "        cnt_high=0\n",
    "        for line in menu[componet]:\n",
    "            if ant+' is low' in line: cnt_low+=1\n",
    "            if ant+' is high' in line: cnt_high+=1\n",
    "            # if ant+' is medium' in line: cnt_high+=1\n",
    "        if cnt_low*cnt_high == 0 and max(cnt_low, cnt_high)>0: \n",
    "            if cnt_low > cnt_high: rule.append(ant+' is low')\n",
    "            else: rule.append(ant+' is enough')\n",
    "    rule_txt = 'If '+ ' and '.join(rule) + ', Then '+componet+' can increase'\n",
    "    print(rule_txt)"
   ]
  },
  {
   "cell_type": "markdown",
   "metadata": {},
   "source": [
    "##### Load the target FNN, then adjust the threshold in simplified_rules(), \n",
    "##### finally input a component of the design in remove_redundants()"
   ]
  },
  {
   "cell_type": "code",
   "execution_count": 9,
   "metadata": {},
   "outputs": [
    {
     "name": "stdout",
     "output_type": "stream",
     "text": [
      "If cycle is low and area is enough and l1 is enough, Then decode can increase\n",
      "If cycle is low and area is enough and l1 is enough and FU is low, Then int can increase\n",
      "If cycle is low and l1 is enough and IQ is low and FU is low and decode is enough, Then IQ can increase\n",
      "If area is low and l2 is low and ROB is low, Then ROB can increase\n"
     ]
    }
   ],
   "source": [
    "model = torch.load('./logs/MBPGMF/mm-405060-456/1/fnn.pt')\n",
    "\n",
    "rules, menu = model.simplified_rules(0.5)\n",
    "remove_redundants(menu, 'decode')\n",
    "rules, menu = model.simplified_rules(0.5)\n",
    "remove_redundants(menu, 'int')\n",
    "rules, menu = model.simplified_rules(0.5)\n",
    "remove_redundants(menu, 'IQ')\n",
    "rules, menu = model.simplified_rules(0.5)\n",
    "remove_redundants(menu, 'ROB')\n"
   ]
  },
  {
   "cell_type": "code",
   "execution_count": 6,
   "metadata": {},
   "outputs": [
    {
     "name": "stdout",
     "output_type": "stream",
     "text": [
      "If area is enough and l1 is enough, Then decode can increase\n",
      "If area is enough and l1 is enough and FU is low, Then int can increase\n",
      "If area is enough and l1 is enough and IQ is low and FU is low and decode is enough, Then IQ can increase\n",
      "If l2 is low and ROB is low, Then ROB can increase\n"
     ]
    }
   ],
   "source": [
    "rules, menu = model.simplified_rules(0.5)\n",
    "remove_redundants(menu, 'decode')\n",
    "rules, menu = model.simplified_rules(0.5)\n",
    "remove_redundants(menu, 'int')\n",
    "rules, menu = model.simplified_rules(0.5)\n",
    "remove_redundants(menu, 'IQ')\n",
    "rules, menu = model.simplified_rules(0.5)\n",
    "remove_redundants(menu, 'ROB')\n"
   ]
  }
 ],
 "metadata": {
  "kernelspec": {
   "display_name": "Python 3",
   "language": "python",
   "name": "python3"
  },
  "language_info": {
   "codemirror_mode": {
    "name": "ipython",
    "version": 3
   },
   "file_extension": ".py",
   "mimetype": "text/x-python",
   "name": "python",
   "nbconvert_exporter": "python",
   "pygments_lexer": "ipython3",
   "version": "3.10.11"
  }
 },
 "nbformat": 4,
 "nbformat_minor": 2
}
