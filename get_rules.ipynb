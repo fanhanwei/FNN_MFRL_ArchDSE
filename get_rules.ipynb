{
 "cells": [
  {
   "cell_type": "markdown",
   "metadata": {},
   "source": [
    "### Get the pruned rules"
   ]
  },
  {
   "cell_type": "code",
   "execution_count": 3,
   "metadata": {},
   "outputs": [],
   "source": [
    "import torch\n",
    "def remove_redundants(menu, componet):\n",
    "    antecedants =  ['cycle','area','l1','l2','ROB','IQ','FU','decode']\n",
    "    rule = []\n",
    "    for ant in antecedants:\n",
    "        cnt_low=0\n",
    "        cnt_med=0\n",
    "        cnt_high=0\n",
    "        for line in menu[componet]:\n",
    "            if ant+' is low' in line: cnt_low+=1\n",
    "            if ant+' is medium' in line: cnt_med+=1\n",
    "            if ant+' is high' in line: cnt_high+=1\n",
    "        if cnt_low*cnt_med*cnt_high == 0 and max(cnt_low, cnt_med, cnt_high)>0: \n",
    "            if torch.argmax(torch.Tensor([cnt_low, cnt_med, cnt_high]))==0: rule.append(ant+' is low')\n",
    "            if torch.argmax(torch.Tensor([cnt_low, cnt_med, cnt_high]))==1: rule.append(ant+' is medium')\n",
    "            if torch.argmax(torch.Tensor([cnt_low, cnt_med, cnt_high]))==2: rule.append(ant+' is high')\n",
    "    rule_txt = 'If '+ ' and '.join(rule) + ', Then '+componet+' can increase'\n",
    "    print(rule_txt)"
   ]
  },
  {
   "cell_type": "markdown",
   "metadata": {},
   "source": [
    "##### Load the target FNN, then adjust the threshold in simplified_rules(), \n",
    "##### finally input a component of the design in remove_redundants()"
   ]
  },
  {
   "cell_type": "code",
   "execution_count": 4,
   "metadata": {},
   "outputs": [
    {
     "name": "stdout",
     "output_type": "stream",
     "text": [
      "If l1 is high and l2 is low and ROB is low and IQ is low and FU is high and decode is low, Then int can increase\n"
     ]
    }
   ],
   "source": [
    "model = torch.load('./fnn-all.pt')\n",
    "rules, menu = model.simplified_rules(0.8)\n",
    "remove_redundants(menu, 'int')\n"
   ]
  }
 ],
 "metadata": {
  "kernelspec": {
   "display_name": "Python 3",
   "language": "python",
   "name": "python3"
  },
  "language_info": {
   "codemirror_mode": {
    "name": "ipython",
    "version": 3
   },
   "file_extension": ".py",
   "mimetype": "text/x-python",
   "name": "python",
   "nbconvert_exporter": "python",
   "pygments_lexer": "ipython3",
   "version": "3.10.11"
  }
 },
 "nbformat": 4,
 "nbformat_minor": 2
}
